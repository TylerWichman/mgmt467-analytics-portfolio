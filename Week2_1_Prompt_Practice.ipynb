{
  "cells": [
    {
      "cell_type": "markdown",
      "metadata": {
        "id": "view-in-github",
        "colab_type": "text"
      },
      "source": [
        "<a href=\"https://colab.research.google.com/github/TylerWichman/mgmt467-analytics-portfolio/blob/main/Week2_1_Prompt_Practice.ipynb\" target=\"_parent\"><img src=\"https://colab.research.google.com/assets/colab-badge.svg\" alt=\"Open In Colab\"/></a>"
      ]
    },
    {
      "cell_type": "markdown",
      "id": "eebaff9c",
      "metadata": {
        "id": "eebaff9c"
      },
      "source": [
        "\n",
        "# Week 2.1 — Prompt Practice: Git, GitHub, and Google Colab\n",
        "\n",
        "**Course:** MGMT 467 — AI‑Assisted Big Data Analytics in the Cloud  \n",
        "**Session:** Tuesday (2.1) — Developer Environment Setup\n",
        "\n",
        "### How to use this notebook\n",
        "- This is a **practice and planning** notebook: most cells are **Markdown** with copy‑pasteable prompt templates you will run in your AI tool (e.g., Gemini).  \n",
        "- After you run a prompt in your AI tool, **summarize what you learned** in the provided **Reflection** cells here.  \n",
        "- When a task asks for a short code snippet (e.g., Git or Colab), paste the **final, validated** snippet in the designated cell and add a one‑sentence explanation.\n",
        "\n",
        "> **Validate everything.** Cross‑check AI outputs with official docs or a second prompt. If two sources disagree, note it and explain which you chose and why.\n"
      ]
    },
    {
      "cell_type": "markdown",
      "id": "de4883d8",
      "metadata": {
        "id": "de4883d8"
      },
      "source": [
        "\n",
        "---\n",
        "## Prompt Patterns Quick Reference\n",
        "\n",
        "Use these as starting points and **adapt** them to your context.\n",
        "\n",
        "### 1) Zero‑Shot (definition/explanation)\n",
        "```\n",
        "Act as a clear, concise tutor for first‑year CS students.\n",
        "Explain {TOPIC} in 5 bullet points max. Include one analogy and one pitfall to avoid.\n",
        "```\n",
        "\n",
        "### 2) Few‑Shot (guided answers consistent with examples)\n",
        "```\n",
        "You will answer in the same style as the examples.\n",
        "\n",
        "Q: What is a \"commit\" in Git?  \n",
        "A: A snapshot of tracked file changes with a message explaining why.\n",
        "\n",
        "Q: What is \"pushing\" in Git?  \n",
        "A: Sending local commits to a remote repository so others can see them.\n",
        "\n",
        "Q: {YOUR QUESTION}\n",
        "A:\n",
        "```\n",
        "\n",
        "### 3) Step‑by‑Step Reasoning (show key steps)\n",
        "```\n",
        "I need a **numbered, step‑by‑step plan** for {TASK}.\n",
        "For each step: the goal, one command (if applicable), and a 1‑line verification check.\n",
        "Avoid hidden steps; keep it to 6–8 steps total.\n",
        "```\n"
      ]
    },
    {
      "cell_type": "markdown",
      "id": "3f07055e",
      "metadata": {
        "id": "3f07055e"
      },
      "source": [
        "\n",
        "---\n",
        "## Group A — Git Fundamentals (3 questions)\n",
        "\n",
        "### A1. What problem does Git solve? How is it different from file syncing?\n",
        "**Use:** Zero‑Shot, then Few‑Shot for refinement.  \n",
        "**Run this prompt:**\n",
        "```\n",
        "Act as a version control coach.\n",
        "Explain what Git is and the specific problem it solves compared to simple file syncing (e.g., Drive).\n",
        "List 3 concrete benefits for a small analytics team.\n",
        "End with a 2‑sentence analogy.\n",
        "```\n",
        "**Reflection (2–4 sentences):** What did you learn that you didn’t already know?\n"
      ]
    },
    {
      "cell_type": "markdown",
      "source": [
        "One thing I learned by running this prompt is the abiility to use Git to experiment using different code solutions to the same problem with the ability to either go back if the original is stronger or to commit the changes if there is an improvement seen. This would be super helpful in data analytics as changing different parameters in a model could lead to different results, so using this feature would allow you to easily track the strongest model."
      ],
      "metadata": {
        "id": "JrKthSoi1y68"
      },
      "id": "JrKthSoi1y68"
    },
    {
      "cell_type": "markdown",
      "id": "b364c38d",
      "metadata": {
        "id": "b364c38d"
      },
      "source": [
        "\n",
        "### A2. Commit → Branch → Merge: the minimal workflow\n",
        "**Use:** Step‑by‑Step Reasoning.  \n",
        "**Run this prompt:**\n",
        "```\n",
        "Create a minimal, step‑by‑step workflow to:\n",
        "1) initialize a repo, 2) create and switch to a feature branch, 3) commit changes,\n",
        "4) merge back to main locally, 5) push to a remote named \"origin\".\n",
        "For each step include: goal, command, and a quick verification.\n",
        "```\n",
        "**Paste final validated commands below and add one sentence on when to branch.**\n"
      ]
    },
    {
      "cell_type": "code",
      "execution_count": null,
      "id": "7fe63d5f",
      "metadata": {
        "id": "7fe63d5f"
      },
      "outputs": [],
      "source": [
        "\n",
        "# Paste your validated minimal Git workflow commands here as comments, e.g.:\n",
        "# git init\n",
        "# git checkout -b feature/readme-polish\n",
        "# git add README.md\n",
        "# git commit -m \"Clarify setup steps\"\n",
        "# git checkout main\n",
        "# git merge feature/readme-polish --no-ff\n",
        "# git remote add origin <REMOTE_URL>\n",
        "# git push -u origin main\n",
        "\n",
        "\n",
        "# git init\n",
        "# git checkout -b feature/your-feature-name\n",
        "# git add .\n",
        "# git commit -m \"Descriptive message about your changes\"\n",
        "# git checkout main\n",
        "# git merge feature/your-feature-name\n",
        "# git remote add origin <REMOTE_URL>\n",
        "# git push -u origin main\n",
        "\n",
        "# You should branch if you start working on a new feature, experiment with current code, or debug\n",
        "# So progress can be saved"
      ]
    },
    {
      "cell_type": "markdown",
      "id": "39cd8eba",
      "metadata": {
        "id": "39cd8eba"
      },
      "source": [
        "\n",
        "### A3. Resolving a simple merge conflict\n",
        "**Use:** Step‑by‑Step Reasoning.  \n",
        "**Run this prompt:**\n",
        "```\n",
        "I have a merge conflict in README.md after merging a feature branch into main.\n",
        "Give a 6-step recipe to resolve it safely:\n",
        "- how to open the file, identify conflict markers, choose/merge lines,\n",
        "- add/commit the resolution, verify the merge, and push.\n",
        "Include one common pitfall and how to avoid it.\n",
        "```\n",
        "**Reflection:** What’s your personal checklist to avoid conflicts getting messy?\n"
      ]
    },
    {
      "cell_type": "markdown",
      "source": [
        "\n",
        "1.   Identify the conflict\n",
        "2.   Open the conflicted file\n",
        "3.   Resolve the conflict\n",
        "4.   Add the resolved file\n",
        "5.   Commit the resolution\n",
        "6.   Verify and Push"
      ],
      "metadata": {
        "id": "pY-8Fg-o79Sc"
      },
      "id": "pY-8Fg-o79Sc"
    },
    {
      "cell_type": "markdown",
      "id": "6028ce17",
      "metadata": {
        "id": "6028ce17"
      },
      "source": [
        "\n",
        "---\n",
        "## Group B — GitHub Collaboration (3 questions)\n",
        "\n",
        "### B1. Branch vs. Fork vs. Clone\n",
        "**Use:** Few‑Shot to drive crisp distinctions with examples.  \n",
        "**Run this prompt:**\n",
        "```\n",
        "Answer using this format:\n",
        "Term — One-sentence definition — When to use — One example.\n",
        "\n",
        "Branch —\n",
        "Fork —\n",
        "Clone —\n",
        "```\n",
        "**Reflection:** Which one will your team use for this course and why?\n"
      ]
    },
    {
      "cell_type": "markdown",
      "source": [
        "In this corse we will likely use branch, it is the only option in which all members could actively be working on a project and everyone can push changes that will be seen by all team members."
      ],
      "metadata": {
        "id": "ZpxXLtow__bb"
      },
      "id": "ZpxXLtow__bb"
    },
    {
      "cell_type": "markdown",
      "id": "2c819dea",
      "metadata": {
        "id": "2c819dea"
      },
      "source": [
        "\n",
        "### B2. Pull Request (PR) checklist for this course\n",
        "**Use:** Step‑by‑Step Reasoning.  \n",
        "**Run this prompt:**\n",
        "```\n",
        "Write a \"PR Checklist\" for a university analytics course team repo.\n",
        "Include: naming convention, description template, screenshots policy, reviewers, CI checks (if any),\n",
        "and a revert plan. Limit to 8 concise checklist items.\n",
        "```\n",
        "**Paste your final checklist below.**\n"
      ]
    },
    {
      "cell_type": "code",
      "execution_count": null,
      "id": "dd5e9adb",
      "metadata": {
        "id": "dd5e9adb"
      },
      "outputs": [],
      "source": [
        "\n",
        "# Example (edit to your team's needs)\n",
        "pr_checklist = [\n",
        "    \"Title: Use a clear naming convention like <week>-<assignment>-<short-description> (e.g., wk3-lab5-eda-customer-trends).\",\n",
        "    \"Description: Include a brief summary of the changes, the problem it solves, key files modified, and instructions on how to test the changes.\",\n",
        "    \"Screenshots/Visuals: Include screenshots of relevant outputs like plots or dashboard changes if applicable.\",\n",
        "    \"Linked Issues: Link the PR to the relevant issue or assignment requirement it addresses.\",\n",
        "    \"Reviewers: Request a review from at least one other teammate. Avoid merging your own PRs.\",\n",
        "    \"Passes Checks: Ensure the code runs without errors (e.g., confirm the notebook runs top-to-bottom). Mention if any CI checks (like linters or tests) are in place and passing.\",\n",
        "    \"No Secrets/PII: Double-check that no API keys, passwords, or personally identifiable information are included in the code or notebook outputs.\",\n",
        "    \"Revert Plan: Briefly note how the changes could be quickly reverted if necessary (usually just reverting the merge commit).\"\n",
        "]\n",
        "pr_checklist\n"
      ]
    },
    {
      "cell_type": "markdown",
      "id": "3be4b08d",
      "metadata": {
        "id": "3be4b08d"
      },
      "source": [
        "\n",
        "### B3. Protected `main` workflow\n",
        "**Use:** Zero‑Shot + Step‑by‑Step.  \n",
        "**Run this prompt:**\n",
        "```\n",
        "Explain how to protect the main branch in a GitHub repo for a class team:\n",
        "- Require PRs, at least one review, and passing checks\n",
        "- Disallow force-pushes\n",
        "Provide a numbered setup guide and a 3-line \"why this matters\" explanation.\n",
        "```\n",
        "**Reflection:** Which protection rules will you actually enable first, and why?\n"
      ]
    },
    {
      "cell_type": "markdown",
      "source": [
        "I think the protection rule that should be enabled first is requiring pull request before merging. This way one team member can't intentionally or unintentionally commit new changes and lose progress on the main branch for the team."
      ],
      "metadata": {
        "id": "BmjnSTVEBgPJ"
      },
      "id": "BmjnSTVEBgPJ"
    },
    {
      "cell_type": "markdown",
      "id": "8d94b30a",
      "metadata": {
        "id": "8d94b30a"
      },
      "source": [
        "\n",
        "---\n",
        "## Group C — Google Colab for Analytics (3 questions)\n",
        "\n",
        "### C1. Why Colab? Benefits & limits for this course\n",
        "**Use:** Zero‑Shot.  \n",
        "**Run this prompt:**\n",
        "```\n",
        "Act as a data science tech advisor.\n",
        "List 5 advantages and 3 limitations of Google Colab for analytics coursework.\n",
        "Tailor to a class that uses BigQuery and dashboards. Keep it to bullet points.\n",
        "```\n",
        "**Reflection:** Which two advantages will help *you* most this semester?\n"
      ]
    },
    {
      "cell_type": "markdown",
      "source": [
        "These two advantages will help me the most this semester\n",
        "\n",
        "1.   Easy Sharing and Collaboration: Notebooks can be easily shared with classmates and instructors, facilitating collaboration and feedback.\n",
        "2.   Integrated with Google Ecosystem: Seamlessly integrates with Google Drive for file storage and readily connects to Google Cloud services like BigQuery.\n",
        "\n"
      ],
      "metadata": {
        "id": "IL6bFtnaCMNy"
      },
      "id": "IL6bFtnaCMNy"
    },
    {
      "cell_type": "markdown",
      "id": "1b96debe",
      "metadata": {
        "id": "1b96debe"
      },
      "source": [
        "\n",
        "### C2. Authenticate to GCP in Colab and query BigQuery\n",
        "**Use:** Step‑by‑Step Reasoning for a minimal working snippet.  \n",
        "**Run this prompt:**\n",
        "```\n",
        "Provide a minimal Colab snippet to:\n",
        "1) authenticate to Google Cloud,\n",
        "2) run a simple BigQuery SQL (e.g., SELECT 1),\n",
        "3) get results into a pandas DataFrame,\n",
        "4) print row count.\n",
        "Include a one-line note on costs and safe use of LIMIT.\n",
        "```\n",
        "**Paste your final validated code below.**\n"
      ]
    },
    {
      "cell_type": "code",
      "execution_count": null,
      "id": "5d389386",
      "metadata": {
        "id": "5d389386"
      },
      "outputs": [],
      "source": [
        "\n",
        "# Minimal BigQuery test in Colab (paste your validated version)\n",
        "# from google.colab import auth\n",
        "# auth.authenticate_user()\n",
        "#\n",
        "# from google.cloud import bigquery\n",
        "# client = bigquery.Client(project=\"<YOUR_PROJECT_ID>\")\n",
        "# sql = \"SELECT 1 AS test_col\"\n",
        "# df = client.query(sql).result().to_dataframe()\n",
        "# print(\"Rows:\", len(df))\n",
        "# df.head()\n"
      ]
    },
    {
      "cell_type": "code",
      "source": [
        "# Authenticate to Google Cloud\n",
        "# from google.colab import auth\n",
        "# auth.authenticate_user()\n",
        "\n",
        "# Initialize BigQuery client and run a sample query\n",
        "# from google.cloud import bigquery\n",
        "# client = bigquery.Client(project=\"<YOUR_PROJECT_ID>\") # Replace with your GCP project ID\n",
        "# sql = \"SELECT 1 AS test_col\" # Simple test query\n",
        "# df = client.query(sql).result().to_dataframe()\n",
        "\n",
        "# print(\"Rows:\", len(df))\n",
        "\n",
        "# display(df.head())\n"
      ],
      "metadata": {
        "id": "QHB-jR5iCgUe"
      },
      "id": "QHB-jR5iCgUe",
      "execution_count": 2,
      "outputs": []
    },
    {
      "cell_type": "markdown",
      "id": "6c63c1ce",
      "metadata": {
        "id": "6c63c1ce"
      },
      "source": [
        "\n",
        "### C3. Save notebooks to GitHub from Colab\n",
        "**Use:** Step‑by‑Step Reasoning.  \n",
        "**Run this prompt:**\n",
        "```\n",
        "Give two safe workflows to keep Colab notebooks versioned in GitHub:\n",
        "(A) using \"File > Save a copy in GitHub\",\n",
        "(B) local git with Drive sync (brief).\n",
        "Provide steps and cautions (e.g., large outputs, secrets) for each.\n",
        "```\n",
        "**Reflection:** Which workflow will your team adopt and why?\n"
      ]
    },
    {
      "cell_type": "markdown",
      "source": [
        "I believe that Workflow A will be the easiest for our team to adobt because there is less complexity in connecting the accounts in workflow A"
      ],
      "metadata": {
        "id": "sWEO7l2tDQiv"
      },
      "id": "sWEO7l2tDQiv"
    },
    {
      "cell_type": "markdown",
      "id": "a181717a",
      "metadata": {
        "id": "a181717a"
      },
      "source": [
        "\n",
        "---\n",
        "## Capstone Synthesis (end of class)\n",
        "\n",
        "**Scenario:** Your team needs a reproducible workflow for this course: team repo on GitHub, branching, Colab auth to BigQuery, and a PR checklist.\n",
        "\n",
        "**Run this prompt:**\n",
        "```\n",
        "Act as a DevEx lead for a university analytics team.\n",
        "Produce a one-page \"Runbook\" with:\n",
        "- Repo structure (folders for notebooks, data, dashboards, docs)\n",
        "- Branching model (who creates branches, when to merge)\n",
        "- Colab ↔ BigQuery quickstart (auth, sample query, cost-safe LIMIT)\n",
        "- PR checklist (max 8 bullets) and protection rules for main\n",
        "- Two risks + mitigations (e.g., secrets leakage, merge conflicts)\n",
        "Use concise bullets and keep it classroom-ready.\n",
        "```\n",
        "\n",
        "**Paste your final runbook below (or attach as a Markdown file in your repo) and add a 3‑bullet reflection on what you changed after validation.**\n"
      ]
    },
    {
      "cell_type": "markdown",
      "source": [
        "As your DevEx lead, here is a concise Runbook for your university analytics team, designed to keep your workflow smooth and reproducible:\n",
        "\n",
        "Team Analytics Project Runbook\n",
        "Repository Structure\n",
        "/\n",
        "├── notebooks/         # Jupyter/Colab notebooks for analysis, modeling, etc.\n",
        "├── data/              # Sample data, processed data (avoid large raw files)\n",
        "├── dashboards/        # Code or config files for dashboarding tools (e.g., Looker Studio, Tableau)\n",
        "├── docs/              # Project documentation, meeting notes, design docs\n",
        "├── src/               # Python scripts or modules (if any)\n",
        "├── .gitignore         # Files/folders to ignore (e.g., data/, .env, __pycache__)\n",
        "├── README.md          # Project overview, setup instructions, team members\n",
        "└── requirements.txt   # Python dependencies\n",
        "Branching Model\n",
        "Main Branch (main): Always represents the stable, production-ready state of the project. Protected.\n",
        "Feature Branches: Team members create a new branch off main for each new task, feature, or bug fix (e.g., feat/eda-customer-segmentation, fix/dashboard-date-filter).\n",
        "Branch Creation: Any team member can create a feature branch.\n",
        "Merging: Feature branches are merged into main via a Pull Request after review and approval.\n",
        "Colab ↔ BigQuery Quickstart\n",
        "Authenticate:\n",
        "from google.colab import auth\n",
        "auth.authenticate_user()\n",
        "Query BigQuery:\n",
        "from google.cloud import bigquery\n",
        "client = bigquery.Client(project=\"<YOUR_PROJECT_ID>\")\n",
        "sql = \"\"\"\n",
        "SELECT count(*) as row_count\n",
        "FROM `your_gcp_project_id.your_dataset.your_table`\n",
        "LIMIT 100 # Use LIMIT for cost control during exploration\n",
        "\"\"\"\n",
        "df = client.query(sql).result().to_dataframe()\n",
        "print(\"Rows retrieved:\", len(df))\n",
        "Note: BigQuery charges for data processed. Use LIMIT and filter early (e.g., by date) to manage costs.\n",
        "\n",
        "Pull Request (PR) Checklist & main Protection\n",
        "PR Checklist (Before Merging):\n",
        "\n",
        "Title follows <week>-<assignment>-<short-description> convention.\n",
        "Description summarizes changes, problem solved, and testing notes.\n",
        "Screenshots/visuals included for relevant outputs.\n",
        "Linked to the relevant assignment/issue.\n",
        "At least one teammate has reviewed and approved.\n",
        "Notebook/code runs top-to-bottom without errors.\n",
        "No secrets or PII are included.\n",
        "Brief revert strategy noted.\n",
        "main Branch Protection Rules (Enable in GitHub Settings > Branches):\n",
        "\n",
        "Require a pull request before merging.\n",
        "Require approvals (set to 1+).\n",
        "Require status checks to pass (if configured).\n",
        "Disallow force pushes.\n",
        "Risks & Mitigations\n",
        "Risk 1: Secrets Leakage (API keys, credentials):\n",
        "Mitigation: Never hardcode secrets in notebooks or scripts. Use Colab's built-in Secrets manager or environment variables. Add secret file names (e.g., .env) to .gitignore.\n",
        "Risk 2: Merge Conflicts:\n",
        "Mitigation: Work on small, focused feature branches. Sync (git pull origin main) frequently before starting new work and before merging. Communicate with teammates about what files you are working on.\n",
        "This runbook provides a solid foundation for your team's collaborative workflow. Remember to adapt it as needed throughout the semester!"
      ],
      "metadata": {
        "id": "llylH9HCDn0I"
      },
      "id": "llylH9HCDn0I"
    },
    {
      "cell_type": "markdown",
      "id": "0aa9e3a2",
      "metadata": {
        "id": "0aa9e3a2"
      },
      "source": [
        "\n",
        "---\n",
        "## Submission Checklist (to your team repo + Brightspace link)\n",
        "\n",
        "- [ ] All **Reflection** sections completed (A1–A3, B1–B3, C1–C3, Capstone).\n",
        "- [ ] Any code snippets pasted are **validated** and include a 1‑line explanation.\n",
        "- [ ] Notebook runs top‑to‑bottom without errors (where code cells exist).\n",
        "- [ ] Commit message: `week2.1-prompt-practice` and open a PR for review.\n",
        "- [ ] Add this notebook path to your repo **README.md** under Week 2.1.\n"
      ]
    }
  ],
  "metadata": {
    "colab": {
      "provenance": [],
      "include_colab_link": true
    },
    "language_info": {
      "name": "python"
    },
    "kernelspec": {
      "name": "python3",
      "display_name": "Python 3"
    }
  },
  "nbformat": 4,
  "nbformat_minor": 5
}